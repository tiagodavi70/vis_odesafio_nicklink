{
 "cells": [
  {
   "cell_type": "code",
   "execution_count": 5,
   "id": "d9ccec18-1249-483c-8696-c36f506ba6c3",
   "metadata": {},
   "outputs": [],
   "source": [
    "import requests as rq\n",
    "import pandas as pd\n",
    "import numpy as np\n",
    "import altair as alt\n",
    "import json\n",
    "from pathlib import Path\n",
    "from datetime import datetime"
   ]
  },
  {
   "cell_type": "markdown",
   "id": "9d93c7f4-a0e7-4778-822b-1d8539ba0434",
   "metadata": {},
   "source": [
    "APIs Utilizadas:  \n",
    "SUMMONER-V4  \n",
    "ACCOUNT-V1  \n",
    "MATCH-v5"
   ]
  },
  {
   "cell_type": "code",
   "execution_count": null,
   "id": "211531fd-8844-4dc1-a6c9-03e6cf1c243a",
   "metadata": {},
   "outputs": [],
   "source": [
    "apikey = 0 # file read\n",
    "puuid = 0 #file read"
   ]
  },
  {
   "cell_type": "code",
   "execution_count": 9,
   "id": "ee1644e9-2589-4fc6-b71b-0301036bde30",
   "metadata": {},
   "outputs": [],
   "source": [
    "dt_obj = datetime.strptime('19.03.2022 21:00:00,00', '%d.%m.%Y %H:%M:%S,%f')\n",
    "millisec = int(dt_obj.timestamp() * 1000)"
   ]
  },
  {
   "cell_type": "code",
   "execution_count": 10,
   "id": "7b184408-2dbc-4368-82fd-3328d2916932",
   "metadata": {},
   "outputs": [
    {
     "data": {
      "text/plain": [
       "1647734400000"
      ]
     },
     "execution_count": 10,
     "metadata": {},
     "output_type": "execute_result"
    }
   ],
   "source": [
    "millisec"
   ]
  },
  {
   "cell_type": "code",
   "execution_count": null,
   "id": "7b5995ec-a61e-4e73-a82b-5b778564c994",
   "metadata": {},
   "outputs": [],
   "source": [
    "endTime = 0\n",
    "startTime = 0\n",
    "matches_url = \"https://americas.api.riotgames.com/lol/match/v5/matches/by-puuid/BRXx7AMAVr6PjViBx163F-hFwOti_YiGdYExpdx4Ks599UChNhM1SoZ9Hl2tbSEpB-09tz-KXaItcA/ids?endTime=1647734400000&start=0&count=100&api_key=RGAPI-025d2772-857f-4c66-8caf-be688f846299\""
   ]
  }
 ],
 "metadata": {
  "kernelspec": {
   "display_name": "Python 3 (ipykernel)",
   "language": "python",
   "name": "python3"
  },
  "language_info": {
   "codemirror_mode": {
    "name": "ipython",
    "version": 3
   },
   "file_extension": ".py",
   "mimetype": "text/x-python",
   "name": "python",
   "nbconvert_exporter": "python",
   "pygments_lexer": "ipython3",
   "version": "3.8.0"
  }
 },
 "nbformat": 4,
 "nbformat_minor": 5
}
