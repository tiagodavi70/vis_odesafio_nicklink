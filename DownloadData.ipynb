{
 "cells": [
  {
   "cell_type": "markdown",
   "id": "7eb00502-a1c9-4c9c-a628-ee38eedbeb6c",
   "metadata": {
    "tags": []
   },
   "source": [
    "# Baixando os dados"
   ]
  },
  {
   "cell_type": "markdown",
   "id": "e5c1d554-db2e-46d0-a5df-5cf4bda01079",
   "metadata": {},
   "source": [
    "Para facilitar o processamento e uso das ferramentas de análise e visualização escolhi baixar tudo que é preciso primeiro. Por meio das APIs oficias da Riot Games é possível recuperar informações das partidas, assim como suas respectivas linhas do tempo. Essas informações são salvas em duas pastas em um json por partida."
   ]
  },
  {
   "cell_type": "markdown",
   "id": "9d93c7f4-a0e7-4778-822b-1d8539ba0434",
   "metadata": {},
   "source": [
    "APIs Utilizadas:  \n",
    "SUMMONER-V4 (utilizada no próprio site)  \n",
    "ACCOUNT-V1 (utilizada no próprio site)   \n",
    "MATCH-V5"
   ]
  },
  {
   "cell_type": "code",
   "execution_count": 1,
   "id": "d9ccec18-1249-483c-8696-c36f506ba6c3",
   "metadata": {},
   "outputs": [],
   "source": [
    "import requests\n",
    "import pandas as pd\n",
    "import numpy as np\n",
    "import altair as alt\n",
    "import json\n",
    "from pathlib import Path\n",
    "from datetime import datetime\n",
    "import time\n",
    "from tqdm.notebook import trange, tqdm"
   ]
  },
  {
   "cell_type": "code",
   "execution_count": 2,
   "id": "211531fd-8844-4dc1-a6c9-03e6cf1c243a",
   "metadata": {},
   "outputs": [],
   "source": [
    "with open(\"apikey.txt\", \"rb\") as f: \n",
    "    apikey = f.read().decode(\"utf-8\")\n",
    "with open(\"ODESAFIO.json\",\"rb\") as f: \n",
    "    puuid = json.loads(f.read())[\"puuid\"]"
   ]
  },
  {
   "cell_type": "code",
   "execution_count": 3,
   "id": "9fc760e1-8206-418e-8b64-20a237a2fe81",
   "metadata": {},
   "outputs": [],
   "source": [
    "rate_time = .85 # ~(50/60)"
   ]
  },
  {
   "cell_type": "markdown",
   "id": "09af2297-3e9e-43ba-830e-37067c7635c6",
   "metadata": {},
   "source": [
    "Muitas limitações foram encontradas nesse contexto usando o `datetime` do próprio python, então foi preciso trocar para o gerenciamento de tempo do `pandas`. "
   ]
  },
  {
   "cell_type": "markdown",
   "id": "ab313875-616b-478e-9250-af079fb5577c",
   "metadata": {},
   "source": [
    "Muitos erros aconteceram utilizando o parâmetro `startTime` na URL para conseguir o ID das partidas, então para conseguir iniciar o trabalho de preprocessamento eu preferi usar somente a data final do desafio. Eventualmente isso deve ser corrigido para incluir precisamente o período.\n",
    "\n",
    "__corrigido__: Dois erros, um seguido do outro. A documentação especificava segundos, e o argumento estava em milisegundos, o `endTime` funcionava por que o tempo era no futuro (segundos esperados * 100 dos milisegundos que eu passava como argumento), mas o `starTime` também indicava o futuro. Em seguida, o formato de `startime` estava escrito como _dia/mes/ano_ assim como o `endTime` no `pandas`. Em `endTime` era compreendido já que o dia passava de 12, então não tinha como ser um mês, mas no `startTime` o formato era lido como _mes/dia/ano_, já que o dia era menor que 12. "
   ]
  },
  {
   "cell_type": "code",
   "execution_count": 4,
   "id": "235b19b7-a91a-4eb5-9300-139dd77cb00e",
   "metadata": {},
   "outputs": [],
   "source": [
    "matches_id = []\n",
    "\n",
    "startTime = int(pd.Timestamp('2022-03-10').timestamp()) # 11/03\n",
    "endTime = int(pd.Timestamp('2022-03-16').timestamp()) # 14/03\n",
    "\n",
    "# pd.to_datetime(startTime, unit=\"s\"), pd.to_datetime(endTime, unit=\"s\")\n",
    "\n",
    "matches_url = f\"https://americas.api.riotgames.com/lol/match/v5/matches/by-puuid/{puuid}/ids?startTime={startTime}&endTime={endTime}&start=0&count=100&api_key={apikey}\"\n",
    "r = requests.get(matches_url)\n",
    "matches_id = r.json()"
   ]
  },
  {
   "cell_type": "code",
   "execution_count": 5,
   "id": "b59721df-3298-4626-903a-2d10d23487dc",
   "metadata": {},
   "outputs": [
    {
     "name": "stdout",
     "output_type": "stream",
     "text": [
      "['BR1_2481071668', 'BR1_2481041619', 'BR1_2481060618', 'BR1_2481020856', 'BR1_2481017412', 'BR1_2480995664', 'BR1_2480964299', 'BR1_2480949667', 'BR1_2480917117', 'BR1_2480922193', 'BR1_2480857504', 'BR1_2480862080', 'BR1_2480826690', 'BR1_2480794279', 'BR1_2480738971', 'BR1_2480724535', 'BR1_2480710991', 'BR1_2480664893', 'BR1_2480632805', 'BR1_2480497171', 'BR1_2480503980', 'BR1_2480481707', 'BR1_2480429560', 'BR1_2480446530', 'BR1_2480415103', 'BR1_2480442152', 'BR1_2480431260', 'BR1_2480399154', 'BR1_2480388413', 'BR1_2480378001', 'BR1_2480348399', 'BR1_2480367158', 'BR1_2480347482', 'BR1_2480356476', 'BR1_2480384739', 'BR1_2480383688', 'BR1_2480392117', 'BR1_2480371314', 'BR1_2480308850', 'BR1_2480296325', 'BR1_2480322557', 'BR1_2480280347', 'BR1_2480274280', 'BR1_2480220562', 'BR1_2480208053', 'BR1_2480213769', 'BR1_2480191626', 'BR1_2480157938', 'BR1_2480153510', 'BR1_2480121325', 'BR1_2480098848', 'BR1_2480065470', 'BR1_2480090708', 'BR1_2479999393', 'BR1_2479994762', 'BR1_2479980961', 'BR1_2479966888', 'BR1_2479954912', 'BR1_2479951223', 'BR1_2479888823', 'BR1_2479896378', 'BR1_2479865963', 'BR1_2479903110', 'BR1_2479911505', 'BR1_2479910669', 'BR1_2479881054', 'BR1_2479829976', 'BR1_2479819901', 'BR1_2479819180', 'BR1_2479828232', 'BR1_2479828008', 'BR1_2479827552', 'BR1_2479816874', 'BR1_2479806371', 'BR1_2479834389', 'BR1_2479794303', 'BR1_2479812091', 'BR1_2479759982', 'BR1_2479738495', 'BR1_2479696068', 'BR1_2479589984', 'BR1_2479572447', 'BR1_2479499551', 'BR1_2479515107', 'BR1_2479530216', 'BR1_2479478298', 'BR1_2479474465', 'BR1_2479460289', 'BR1_2479368408', 'BR1_2479394996', 'BR1_2479402377', 'BR1_2479381005', 'BR1_2479360102'] 93\n"
     ]
    }
   ],
   "source": [
    "print(matches_id, len(matches_id))"
   ]
  },
  {
   "cell_type": "markdown",
   "id": "0b00ab56-40ff-4b42-bfc6-ea322dd6a9be",
   "metadata": {},
   "source": [
    "Os laços abaixo só usam o id das partidas para recuperar a informação das partidas e linha do tempo."
   ]
  },
  {
   "cell_type": "code",
   "execution_count": 6,
   "id": "a40a510d-3839-4727-bd3d-26ef38a8d96f",
   "metadata": {},
   "outputs": [
    {
     "data": {
      "application/vnd.jupyter.widget-view+json": {
       "model_id": "77516d39f7f347319d6842156449fd92",
       "version_major": 2,
       "version_minor": 0
      },
      "text/plain": [
       "  0%|          | 0/93 [00:00<?, ?it/s]"
      ]
     },
     "metadata": {},
     "output_type": "display_data"
    }
   ],
   "source": [
    "for match_id in tqdm(matches_id):\n",
    "    match_data_url = f\"https://americas.api.riotgames.com/lol/match/v5/matches/{match_id}?api_key={apikey}\"\n",
    "    r = requests.get(match_data_url)\n",
    "    # time.sleep(rate_time)\n",
    "    with open(f\"matches/{match_id}.json\", \"w\") as outfile:\n",
    "        json.dump(r.json(), outfile, indent=3, sort_keys=True)"
   ]
  },
  {
   "cell_type": "code",
   "execution_count": 7,
   "id": "44118a0c-4221-46b6-9a76-10ccc9786dbe",
   "metadata": {},
   "outputs": [
    {
     "data": {
      "application/vnd.jupyter.widget-view+json": {
       "model_id": "7304323a5e4c41278d971040ab485d1b",
       "version_major": 2,
       "version_minor": 0
      },
      "text/plain": [
       "  0%|          | 0/93 [00:00<?, ?it/s]"
      ]
     },
     "metadata": {},
     "output_type": "display_data"
    }
   ],
   "source": [
    "for match_id in tqdm(matches_id):\n",
    "    match_data_url = f\"https://americas.api.riotgames.com/lol/match/v5/matches/{match_id}/timeline?api_key={apikey}\"\n",
    "    r = requests.get(match_data_url)\n",
    "    # time.sleep(rate_time)\n",
    "    with open(f\"timelines/{match_id}.json\", \"w\") as outfile:\n",
    "        json.dump(r.json(), outfile, indent=3, sort_keys=True)"
   ]
  },
  {
   "cell_type": "markdown",
   "id": "62bb9a87-695c-48e7-a01b-8ac842c39827",
   "metadata": {},
   "source": [
    "Por enquanto os downloads terminam aqui, mas provavelmente um acesso dinâmico vai ser necessário na API ACCOUNT-V1 ou SUMMONER-V4 para recuperar os nomes dos outros participantes das partidas se for necessário."
   ]
  },
  {
   "cell_type": "code",
   "execution_count": null,
   "id": "52959c2d-be4b-4ea6-9d82-1b0269fdcc58",
   "metadata": {},
   "outputs": [],
   "source": []
  }
 ],
 "metadata": {
  "kernelspec": {
   "display_name": "Python 3 (ipykernel)",
   "language": "python",
   "name": "python3"
  },
  "language_info": {
   "codemirror_mode": {
    "name": "ipython",
    "version": 3
   },
   "file_extension": ".py",
   "mimetype": "text/x-python",
   "name": "python",
   "nbconvert_exporter": "python",
   "pygments_lexer": "ipython3",
   "version": "3.8.0"
  }
 },
 "nbformat": 4,
 "nbformat_minor": 5
}
