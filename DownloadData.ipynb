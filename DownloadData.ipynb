{
 "cells": [
  {
   "cell_type": "markdown",
   "id": "7eb00502-a1c9-4c9c-a628-ee38eedbeb6c",
   "metadata": {
    "tags": []
   },
   "source": [
    "# Baixando os dados"
   ]
  },
  {
   "cell_type": "markdown",
   "id": "e5c1d554-db2e-46d0-a5df-5cf4bda01079",
   "metadata": {},
   "source": [
    "Para facilitar o processamento e uso das ferramentas de análise e visualização escolhi baixar tudo que é preciso primeiro. Por meio das APIs oficias da Riot Games é possível recuperar informações das partidas, assim como suas respectivas linhas do tempo. Essas informações são salvas em duas pastas em um json por partida."
   ]
  },
  {
   "cell_type": "markdown",
   "id": "9d93c7f4-a0e7-4778-822b-1d8539ba0434",
   "metadata": {},
   "source": [
    "APIs Utilizadas:  \n",
    "SUMMONER-V4 (utilizada no próprio site)  \n",
    "ACCOUNT-V1 (utilizada no próprio site)   \n",
    "MATCH-V5"
   ]
  },
  {
   "cell_type": "code",
   "execution_count": 1,
   "id": "d9ccec18-1249-483c-8696-c36f506ba6c3",
   "metadata": {},
   "outputs": [],
   "source": [
    "import requests\n",
    "import pandas as pd\n",
    "import numpy as np\n",
    "import altair as alt\n",
    "import json\n",
    "from pathlib import Path\n",
    "from datetime import datetime\n",
    "import time\n",
    "from tqdm.notebook import trange, tqdm"
   ]
  },
  {
   "cell_type": "code",
   "execution_count": 2,
   "id": "211531fd-8844-4dc1-a6c9-03e6cf1c243a",
   "metadata": {},
   "outputs": [],
   "source": [
    "with open(\"apikey.txt\", \"rb\") as f: \n",
    "    apikey = f.read().decode(\"utf-8\")\n",
    "with open(\"ODESAFIO.json\",\"rb\") as f: \n",
    "    puuid = json.loads(f.read())[\"puuid\"]"
   ]
  },
  {
   "cell_type": "code",
   "execution_count": 3,
   "id": "9fc760e1-8206-418e-8b64-20a237a2fe81",
   "metadata": {},
   "outputs": [],
   "source": [
    "rate_time = .85 # ~(50/60)"
   ]
  },
  {
   "cell_type": "markdown",
   "id": "09af2297-3e9e-43ba-830e-37067c7635c6",
   "metadata": {},
   "source": [
    "Muitas limitações foram encontradas nesse contexto usando o `datetime` do próprio python, então foi preciso trocar para o gerenciamento de tempo do `pandas`. "
   ]
  },
  {
   "cell_type": "code",
   "execution_count": 16,
   "id": "ee1644e9-2589-4fc6-b71b-0301036bde30",
   "metadata": {},
   "outputs": [],
   "source": [
    "startTime = int(pd.Timestamp('10.03.2022').timestamp())\n",
    "endTime = int(pd.Timestamp('15.03.2022').timestamp())"
   ]
  },
  {
   "cell_type": "code",
   "execution_count": 17,
   "id": "7b184408-2dbc-4368-82fd-3328d2916932",
   "metadata": {},
   "outputs": [
    {
     "data": {
      "text/plain": [
       "(1664755200, 1647302400)"
      ]
     },
     "execution_count": 17,
     "metadata": {},
     "output_type": "execute_result"
    }
   ],
   "source": [
    "startTime, endTime"
   ]
  },
  {
   "cell_type": "markdown",
   "id": "ab313875-616b-478e-9250-af079fb5577c",
   "metadata": {},
   "source": [
    "Muitos erros aconteceram utilizando o parâmetro `startTime` na URL para conseguir o ID das partidas, então para conseguir iniciar o trabalho de preprocessamento eu preferi usar somente a data final do desafio. Eventualmente isso deve ser corrigido para incluir precisamente o período."
   ]
  },
  {
   "cell_type": "code",
   "execution_count": 7,
   "id": "7b5995ec-a61e-4e73-a82b-5b778564c994",
   "metadata": {},
   "outputs": [],
   "source": [
    "matches_id = []\n",
    "\n",
    "matches_url = f\"https://americas.api.riotgames.com/lol/match/v5/matches/by-puuid/{puuid}/ids?endTime={endTime}&start=0&count=100&api_key={apikey}\"\n",
    "r = requests.get(matches_url)\n",
    "matches_id = r.json()"
   ]
  },
  {
   "cell_type": "markdown",
   "id": "0b00ab56-40ff-4b42-bfc6-ea322dd6a9be",
   "metadata": {},
   "source": [
    "Os laços abaixo só usam o id das partidas para recuperar a informação das partidas e linha do tempo."
   ]
  },
  {
   "cell_type": "code",
   "execution_count": 13,
   "id": "a40a510d-3839-4727-bd3d-26ef38a8d96f",
   "metadata": {},
   "outputs": [
    {
     "data": {
      "application/vnd.jupyter.widget-view+json": {
       "model_id": "34082e0879e1440783438c9500376966",
       "version_major": 2,
       "version_minor": 0
      },
      "text/plain": [
       "  0%|          | 0/100 [00:00<?, ?it/s]"
      ]
     },
     "metadata": {},
     "output_type": "display_data"
    }
   ],
   "source": [
    "for match_id in tqdm(matches_id):\n",
    "    match_data_url = f\"https://americas.api.riotgames.com/lol/match/v5/matches/{match_id}?api_key={apikey}\"\n",
    "    r = requests.get(match_data_url)\n",
    "    # time.sleep(rate_time)\n",
    "    with open(f\"matches/{match_id}.json\", \"w\") as outfile:\n",
    "        json.dump(r.json(), outfile, indent=4, sort_keys=True)"
   ]
  },
  {
   "cell_type": "code",
   "execution_count": 14,
   "id": "44118a0c-4221-46b6-9a76-10ccc9786dbe",
   "metadata": {},
   "outputs": [
    {
     "data": {
      "application/vnd.jupyter.widget-view+json": {
       "model_id": "c979127829a74f6ab54552ce4e1a73c4",
       "version_major": 2,
       "version_minor": 0
      },
      "text/plain": [
       "  0%|          | 0/100 [00:00<?, ?it/s]"
      ]
     },
     "metadata": {},
     "output_type": "display_data"
    }
   ],
   "source": [
    "for match_id in tqdm(matches_id):\n",
    "    match_data_url = f\"https://americas.api.riotgames.com/lol/match/v5/matches/{match_id}/timeline?api_key={apikey}\"\n",
    "    r = requests.get(match_data_url)\n",
    "    # time.sleep(rate_time)\n",
    "    with open(f\"timelines/{match_id}.json\", \"w\") as outfile:\n",
    "        json.dump(r.json(), outfile, indent=4, sort_keys=True)"
   ]
  },
  {
   "cell_type": "markdown",
   "id": "62bb9a87-695c-48e7-a01b-8ac842c39827",
   "metadata": {},
   "source": [
    "Por enquanto os downloads terminam aqui, mas provavelmente um acesso dinâmico vai ser necessário na API ACCOUNT-V1 ou SUMMONER-V4 para recuperar os nomes dos outros participantes das partidas se for necessário."
   ]
  },
  {
   "cell_type": "code",
   "execution_count": null,
   "id": "52959c2d-be4b-4ea6-9d82-1b0269fdcc58",
   "metadata": {},
   "outputs": [],
   "source": []
  }
 ],
 "metadata": {
  "kernelspec": {
   "display_name": "Python 3 (ipykernel)",
   "language": "python",
   "name": "python3"
  },
  "language_info": {
   "codemirror_mode": {
    "name": "ipython",
    "version": 3
   },
   "file_extension": ".py",
   "mimetype": "text/x-python",
   "name": "python",
   "nbconvert_exporter": "python",
   "pygments_lexer": "ipython3",
   "version": "3.8.0"
  }
 },
 "nbformat": 4,
 "nbformat_minor": 5
}
