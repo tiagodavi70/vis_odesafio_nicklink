{
 "cells": [
  {
   "cell_type": "code",
   "execution_count": 20,
   "id": "ab140021-ce02-4996-92ef-a8c33db1b631",
   "metadata": {},
   "outputs": [
    {
     "data": {
      "text/plain": [
       "<module 'utils' from 'C:\\\\Users\\\\tiago\\\\Documents\\\\repos\\\\vis_odesafio_nicklink\\\\utils.py'>"
      ]
     },
     "execution_count": 20,
     "metadata": {},
     "output_type": "execute_result"
    }
   ],
   "source": [
    "import pandas as pd\n",
    "import numpy as np\n",
    "import altair as alt\n",
    "import json\n",
    "from pathlib import Path\n",
    "from datetime import datetime\n",
    "import time\n",
    "from tqdm.notebook import trange, tqdm\n",
    "import os\n",
    "import pprint\n",
    "from sys import getsizeof\n",
    "\n",
    "from utils import timestampToDate, dateToTimestamp\n",
    "\n",
    "import utils\n",
    "import importlib\n",
    "importlib.reload(utils)"
   ]
  },
  {
   "cell_type": "code",
   "execution_count": 5,
   "id": "aae238de-0d24-4250-9ede-b69a648e41bd",
   "metadata": {},
   "outputs": [],
   "source": [
    "ids = [match.split(\".\")[0] for match in os.listdir(\"matches/\")]\n",
    "with open(\"ODESAFIO.json\",\"rb\") as f: \n",
    "    nl_id = json.loads(f.read())[\"puuid\"]"
   ]
  },
  {
   "cell_type": "code",
   "execution_count": 6,
   "id": "db0c462c-3657-45f2-b003-4280e74a915f",
   "metadata": {},
   "outputs": [],
   "source": [
    "challenge_keys = [\"damagePerMinute\",\"goldPerMinute\",\"visionScorePerMinute\",\"visionScoreAdvantageLaneOpponent\",\"kda\",\"maxCsAdvantageOnLaneOpponent\",\"bountyGold\"]\n",
    "info_keys = []"
   ]
  },
  {
   "cell_type": "code",
   "execution_count": 7,
   "id": "e7a65ec7-3597-4707-b65e-956abd17ae34",
   "metadata": {},
   "outputs": [
    {
     "data": {
      "application/vnd.jupyter.widget-view+json": {
       "model_id": "d36af8000ef3442694993602955e3760",
       "version_major": 2,
       "version_minor": 0
      },
      "text/plain": [
       "  0%|          | 0/2 [00:00<?, ?it/s]"
      ]
     },
     "metadata": {},
     "output_type": "display_data"
    },
    {
     "name": "stdout",
     "output_type": "stream",
     "text": [
      "\n",
      "\n"
     ]
    }
   ],
   "source": [
    "# matches\n",
    "matches_complete = []\n",
    "for match_id in tqdm(ids[:2]):\n",
    "    with open(f'matches/{match_id}.json','r') as f:\n",
    "        match = json.load(f)\n",
    "    with open(f'timelines/{match_id}.json','r') as f:\n",
    "        timeline = json.load(f)\n",
    "    \n",
    "    nl_pdto = [ p for p in match[\"info\"][\"participants\"] if p[\"puuid\"] == nl_id][0]\n",
    "    del nl_pdto[\"perks\"]\n",
    "    print()\n",
    "    # matches_complete.append({'match': match, 'timeline': timeline})\n",
    "    # print(matches)\n",
    "# nl_pdto"
   ]
  },
  {
   "cell_type": "code",
   "execution_count": 43,
   "id": "605ae1f6-0f7d-4e4d-b9ec-e03314673e61",
   "metadata": {},
   "outputs": [
    {
     "name": "stdout",
     "output_type": "stream",
     "text": [
      "1647081816854 2022-03-12 10:43:36.854000\n",
      "2022-10-03 00:00:00\n"
     ]
    }
   ],
   "source": [
    "t = match[\"info\"][\"gameStartTimestamp\"] #+ 1000 * match[\"info\"][\"gameDuration\"]\n",
    "# print(dateToTimestamp('10.03.2022'))\n",
    "# print(print(pd.to_datetime(ts)))\n",
    "print(t, pd.to_datetime(t, unit='ms'))\n",
    "print(pd.Timestamp('10.03.2022'))\n",
    "# timestampToDate(t)"
   ]
  },
  {
   "cell_type": "code",
   "execution_count": 47,
   "id": "20b23892-b73f-4b08-b121-acf75c27992e",
   "metadata": {},
   "outputs": [
    {
     "data": {
      "text/html": [
       "<div>\n",
       "<style scoped>\n",
       "    .dataframe tbody tr th:only-of-type {\n",
       "        vertical-align: middle;\n",
       "    }\n",
       "\n",
       "    .dataframe tbody tr th {\n",
       "        vertical-align: top;\n",
       "    }\n",
       "\n",
       "    .dataframe thead th {\n",
       "        text-align: right;\n",
       "    }\n",
       "</style>\n",
       "<table border=\"1\" class=\"dataframe\">\n",
       "  <thead>\n",
       "    <tr style=\"text-align: right;\">\n",
       "      <th></th>\n",
       "      <th>gameCreation</th>\n",
       "      <th>gameDuration</th>\n",
       "      <th>gameEndTimestamp</th>\n",
       "      <th>gameId</th>\n",
       "      <th>gameMode</th>\n",
       "      <th>gameName</th>\n",
       "      <th>gameStartTimestamp</th>\n",
       "      <th>gameType</th>\n",
       "      <th>gameVersion</th>\n",
       "      <th>mapId</th>\n",
       "      <th>participants</th>\n",
       "      <th>platformId</th>\n",
       "      <th>queueId</th>\n",
       "      <th>teams</th>\n",
       "      <th>tournamentCode</th>\n",
       "    </tr>\n",
       "  </thead>\n",
       "  <tbody>\n",
       "    <tr>\n",
       "      <th>0</th>\n",
       "      <td>1647078376000</td>\n",
       "      <td>1507</td>\n",
       "      <td>1647079979576</td>\n",
       "      <td>2479819180</td>\n",
       "      <td>CLASSIC</td>\n",
       "      <td>teambuilder-match-2479819180</td>\n",
       "      <td>1647078471878</td>\n",
       "      <td>MATCHED_GAME</td>\n",
       "      <td>12.5.425.9171</td>\n",
       "      <td>11</td>\n",
       "      <td>[{'assists': 3, 'baronKills': 0, 'bountyLevel'...</td>\n",
       "      <td>BR1</td>\n",
       "      <td>420</td>\n",
       "      <td>[{'bans': [{'championId': 92, 'pickTurn': 1}, ...</td>\n",
       "      <td></td>\n",
       "    </tr>\n",
       "    <tr>\n",
       "      <th>1</th>\n",
       "      <td>1647081684000</td>\n",
       "      <td>959</td>\n",
       "      <td>1647082776002</td>\n",
       "      <td>2479819901</td>\n",
       "      <td>CLASSIC</td>\n",
       "      <td>teambuilder-match-2479819901</td>\n",
       "      <td>1647081816854</td>\n",
       "      <td>MATCHED_GAME</td>\n",
       "      <td>12.5.425.9171</td>\n",
       "      <td>11</td>\n",
       "      <td>[{'assists': 0, 'baronKills': 0, 'bountyLevel'...</td>\n",
       "      <td>BR1</td>\n",
       "      <td>420</td>\n",
       "      <td>[{'bans': [{'championId': 777, 'pickTurn': 1},...</td>\n",
       "      <td></td>\n",
       "    </tr>\n",
       "  </tbody>\n",
       "</table>\n",
       "</div>"
      ],
      "text/plain": [
       "    gameCreation  gameDuration  gameEndTimestamp      gameId gameMode  \\\n",
       "0  1647078376000          1507     1647079979576  2479819180  CLASSIC   \n",
       "1  1647081684000           959     1647082776002  2479819901  CLASSIC   \n",
       "\n",
       "                       gameName  gameStartTimestamp      gameType  \\\n",
       "0  teambuilder-match-2479819180       1647078471878  MATCHED_GAME   \n",
       "1  teambuilder-match-2479819901       1647081816854  MATCHED_GAME   \n",
       "\n",
       "     gameVersion  mapId                                       participants  \\\n",
       "0  12.5.425.9171     11  [{'assists': 3, 'baronKills': 0, 'bountyLevel'...   \n",
       "1  12.5.425.9171     11  [{'assists': 0, 'baronKills': 0, 'bountyLevel'...   \n",
       "\n",
       "  platformId  queueId                                              teams  \\\n",
       "0        BR1      420  [{'bans': [{'championId': 92, 'pickTurn': 1}, ...   \n",
       "1        BR1      420  [{'bans': [{'championId': 777, 'pickTurn': 1},...   \n",
       "\n",
       "  tournamentCode  \n",
       "0                 \n",
       "1                 "
      ]
     },
     "execution_count": 47,
     "metadata": {},
     "output_type": "execute_result"
    }
   ],
   "source": [
    "pd.DataFrame([match[\"info\"] for match in matches])"
   ]
  },
  {
   "cell_type": "code",
   "execution_count": null,
   "id": "87710eb9-2178-46e2-8b07-379abd143034",
   "metadata": {},
   "outputs": [],
   "source": []
  }
 ],
 "metadata": {
  "kernelspec": {
   "display_name": "Python 3 (ipykernel)",
   "language": "python",
   "name": "python3"
  },
  "language_info": {
   "codemirror_mode": {
    "name": "ipython",
    "version": 3
   },
   "file_extension": ".py",
   "mimetype": "text/x-python",
   "name": "python",
   "nbconvert_exporter": "python",
   "pygments_lexer": "ipython3",
   "version": "3.8.0"
  }
 },
 "nbformat": 4,
 "nbformat_minor": 5
}
